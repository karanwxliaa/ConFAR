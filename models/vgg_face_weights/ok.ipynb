{
 "cells": [
  {
   "cell_type": "code",
   "execution_count": 1,
   "metadata": {},
   "outputs": [
    {
     "name": "stderr",
     "output_type": "stream",
     "text": [
      "d:\\anaconda\\envs\\TORCHGPU\\lib\\site-packages\\torchvision\\io\\image.py:13: UserWarning: Failed to load image Python extension: 'Could not find module 'D:\\anaconda\\envs\\TORCHGPU\\Lib\\site-packages\\torchvision\\image.pyd' (or one of its dependencies). Try using the full path with constructor syntax.'If you don't plan on using image functionality from `torchvision.io`, you can ignore this warning. Otherwise, there might be something wrong with your environment. Did you have `libjpeg` or `libpng` installed before building `torchvision` from source?\n",
      "  warn(\n"
     ]
    }
   ],
   "source": [
    "import torch\n",
    "import torchvision.transforms as transforms\n",
    "from PIL import Image\n"
   ]
  },
  {
   "cell_type": "code",
   "execution_count": 2,
   "metadata": {},
   "outputs": [
    {
     "ename": "NameError",
     "evalue": "name 'vgg_face_pytorch' is not defined",
     "output_type": "error",
     "traceback": [
      "\u001b[1;31m---------------------------------------------------------------------------\u001b[0m",
      "\u001b[1;31mNameError\u001b[0m                                 Traceback (most recent call last)",
      "Cell \u001b[1;32mIn[2], line 2\u001b[0m\n\u001b[0;32m      1\u001b[0m \u001b[38;5;66;03m# Assuming 'vgg_face_pytorch' is your model in PyTorch\u001b[39;00m\n\u001b[1;32m----> 2\u001b[0m \u001b[43mvgg_face_pytorch\u001b[49m\u001b[38;5;241m.\u001b[39meval()  \u001b[38;5;66;03m# Set the model to evaluation mode\u001b[39;00m\n\u001b[0;32m      4\u001b[0m \u001b[38;5;66;03m# Load image\u001b[39;00m\n\u001b[0;32m      5\u001b[0m image_path \u001b[38;5;241m=\u001b[39m \u001b[38;5;124m'\u001b[39m\u001b[38;5;124m./ak.png\u001b[39m\u001b[38;5;124m'\u001b[39m\n",
      "\u001b[1;31mNameError\u001b[0m: name 'vgg_face_pytorch' is not defined"
     ]
    }
   ],
   "source": [
    "# Assuming 'vgg_face_pytorch' is your model in PyTorch\n",
    "vgg_face_pytorch.eval()  # Set the model to evaluation mode\n",
    "\n",
    "# Load image\n",
    "image_path = './ak.png'\n",
    "im = Image.open(image_path)\n",
    "\n",
    "# Define preprocessing steps\n",
    "preprocess = transforms.Compose([\n",
    "    transforms.Resize(256),  # Assuming you need to resize your image\n",
    "    transforms.CenterCrop(224),  # Assuming your model expects this input size\n",
    "    transforms.ToTensor(),\n",
    "    transforms.Lambda(lambda x: x * 255),\n",
    "    transforms.Normalize(mean=[129.1863, 104.7624, 93.5940], std=[1, 1, 1]),\n",
    "    transforms.Lambda(lambda x: x[[2, 1, 0]]),  # Convert RGB to BGR\n",
    "])\n",
    "\n",
    "im_preprocessed = preprocess(im).unsqueeze(0)  # Add batch dimension\n",
    "\n",
    "# Make a prediction\n",
    "with torch.no_grad():\n",
    "    prob = vgg_face_pytorch(im_preprocessed)\n",
    "maxval, maxid = torch.max(prob, 1)\n",
    "\n",
    "print(maxid)\n"
   ]
  },
  {
   "cell_type": "code",
   "execution_count": null,
   "metadata": {},
   "outputs": [],
   "source": []
  }
 ],
 "metadata": {
  "kernelspec": {
   "display_name": "TORCHGPU",
   "language": "python",
   "name": "python3"
  },
  "language_info": {
   "codemirror_mode": {
    "name": "ipython",
    "version": 3
   },
   "file_extension": ".py",
   "mimetype": "text/x-python",
   "name": "python",
   "nbconvert_exporter": "python",
   "pygments_lexer": "ipython3",
   "version": "3.9.18"
  }
 },
 "nbformat": 4,
 "nbformat_minor": 2
}
